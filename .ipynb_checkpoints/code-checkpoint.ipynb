{
 "cells": [
  {
   "cell_type": "code",
   "execution_count": 15,
   "metadata": {
    "collapsed": false
   },
   "outputs": [],
   "source": [
    "from sklearn.datasets import load_digits\n",
    "from sklearn.model_selection import GridSearchCV\n",
    "from sklearn.pipeline import Pipeline\n",
    "from sklearn import preprocessing\n",
    "from sklearn.svm import SVC\n",
    "from sklearn.svm import LinearSVC\n",
    "from sklearn.decomposition import PCA\n",
    "from sklearn.feature_selection import SelectKBest, chi2\n",
    "from sklearn.model_selection import train_test_split\n",
    "from sklearn.externals import joblib\n",
    "from sklearn import metrics\n",
    "import numpy as np\n",
    "digits = load_digits()"
   ]
  },
  {
   "cell_type": "code",
   "execution_count": 16,
   "metadata": {
    "collapsed": true
   },
   "outputs": [],
   "source": [
    "#划分训练集和测试集\n",
    "x_train,x_test,y_train,y_test = train_test_split(digits.data,digits.target)"
   ]
  },
  {
   "cell_type": "code",
   "execution_count": 18,
   "metadata": {
    "collapsed": false
   },
   "outputs": [
    {
     "data": {
      "text/plain": [
       "['pca_svm_model.m']"
      ]
     },
     "execution_count": 18,
     "metadata": {},
     "output_type": "execute_result"
    }
   ],
   "source": [
    "#PCA降维再svm分类\n",
    "pipe = Pipeline([('reduce_dim',PCA()),('classify',SVC())])\n",
    "N_FEATURES_OPTIONS = [2,4,8,16]\n",
    "C_OPTIONS = [0.01,0.1,1,10]\n",
    "KERNEL = ['linear','rbf']\n",
    "param_grid = [\n",
    "    {\n",
    "        'reduce_dim':[PCA(iterated_power=7)],\n",
    "        'reduce_dim__n_components':N_FEATURES_OPTIONS,\n",
    "        'classify__C':C_OPTIONS,\n",
    "        'classify__kernel':KERNEL\n",
    "    },\n",
    "    {\n",
    "        'reduce_dim':[SelectKBest(chi2)],\n",
    "        'reduce_dim__k':N_FEATURES_OPTIONS,\n",
    "        'classify__C':C_OPTIONS,\n",
    "        'classify__kernel':KERNEL\n",
    "    },\n",
    "]\n",
    "grid = GridSearchCV(pipe, cv=3, n_jobs=2, param_grid=param_grid)\n",
    "grid.fit(x_train, y_train)\n",
    "#保存模型\n",
    "joblib.dump(grid,'pca_svm_model.m')"
   ]
  },
  {
   "cell_type": "code",
   "execution_count": 24,
   "metadata": {
    "collapsed": false
   },
   "outputs": [
    {
     "name": "stdout",
     "output_type": "stream",
     "text": [
      "[ 1.          0.97959184  1.          0.90243902  0.97619048  1.          1.\n",
      "  1.          0.97826087  0.975     ]\n"
     ]
    }
   ],
   "source": [
    "#预测\n",
    "y_hat = grid.predict(x_test)\n",
    "precision = metrics.precision_score(y_test,y_hat,average=None)\n",
    "print('Precision:%s'%(precision))"
   ]
  },
  {
   "cell_type": "code",
   "execution_count": 25,
   "metadata": {
    "collapsed": false
   },
   "outputs": [
    {
     "data": {
      "text/plain": [
       "Pipeline(steps=[('reduce_dim', PCA(copy=True, iterated_power=7, n_components=16, random_state=None,\n",
       "  svd_solver='auto', tol=0.0, whiten=False)), ('classify', SVC(C=0.01, cache_size=200, class_weight=None, coef0=0.0,\n",
       "  decision_function_shape=None, degree=3, gamma='auto', kernel='linear',\n",
       "  max_iter=-1, probability=False, random_state=None, shrinking=True,\n",
       "  tol=0.001, verbose=False))])"
      ]
     },
     "execution_count": 25,
     "metadata": {},
     "output_type": "execute_result"
    }
   ],
   "source": [
    "#最好的estimator\n",
    "grid.best_estimator_"
   ]
  },
  {
   "cell_type": "code",
   "execution_count": 26,
   "metadata": {
    "collapsed": false
   },
   "outputs": [
    {
     "data": {
      "text/plain": [
       "['scaler_linearsvm_model.m']"
      ]
     },
     "execution_count": 26,
     "metadata": {},
     "output_type": "execute_result"
    }
   ],
   "source": [
    "#数据进行缩放预处理再使用LinearSVC分类\n",
    "pipe = Pipeline([('scaler',preprocessing.MinMaxScaler()),('classify',LinearSVC())])\n",
    "# C_OPTIONS = [0.01,0.1,1,10]\n",
    "C_OPTIONS = np.logspace(-3, 4, 8)\n",
    "# RANDOM_STATE = [0,42]\n",
    "# MAX_ITER = [800,1000,1200]\n",
    "# PENALTY = ['l1','l2']\n",
    "# LOSS = ['hinge','squared_hinge']\n",
    "param_grid = {\n",
    "        'classify__C':C_OPTIONS,\n",
    "}\n",
    "grid = GridSearchCV(pipe, param_grid ,cv=3, n_jobs=2)\n",
    "grid.fit(x_train, y_train)\n",
    "#保存模型\n",
    "joblib.dump(grid,'scaler_linearsvm_model.m')"
   ]
  },
  {
   "cell_type": "code",
   "execution_count": 27,
   "metadata": {
    "collapsed": false
   },
   "outputs": [
    {
     "name": "stdout",
     "output_type": "stream",
     "text": [
      "Precision:[ 0.97674419  0.97916667  1.          0.97297297  0.97619048  0.97619048\n",
      "  0.97826087  0.95744681  0.97916667  0.975     ]\n"
     ]
    }
   ],
   "source": [
    "#预测\n",
    "y_hat = grid.predict(x_test)\n",
    "precision = metrics.precision_score(y_test,y_hat,average=None)\n",
    "print('Precision:%s'%(precision))"
   ]
  },
  {
   "cell_type": "code",
   "execution_count": null,
   "metadata": {
    "collapsed": true
   },
   "outputs": [],
   "source": []
  }
 ],
 "metadata": {
  "kernelspec": {
   "display_name": "Python 3",
   "language": "python",
   "name": "python3"
  },
  "language_info": {
   "codemirror_mode": {
    "name": "ipython",
    "version": 3
   },
   "file_extension": ".py",
   "mimetype": "text/x-python",
   "name": "python",
   "nbconvert_exporter": "python",
   "pygments_lexer": "ipython3",
   "version": "3.6.0"
  }
 },
 "nbformat": 4,
 "nbformat_minor": 2
}
